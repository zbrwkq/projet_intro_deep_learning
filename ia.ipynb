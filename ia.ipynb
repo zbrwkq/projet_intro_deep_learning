{
 "cells": [
  {
   "cell_type": "markdown",
   "metadata": {},
   "source": [
    "# Entrainement de l'IA"
   ]
  },
  {
   "cell_type": "markdown",
   "metadata": {},
   "source": [
    "### Extraction de l'archive"
   ]
  },
  {
   "cell_type": "code",
   "execution_count": null,
   "metadata": {},
   "outputs": [],
   "source": [
    "import zipfile\n",
    "import os\n",
    "\n",
    "# Chemin vers votre archive zip\n",
    "archive_path = 'archive.zip'\n",
    "\n",
    "# Répertoire de destination pour extraire les images\n",
    "extracted_path = 'images/'\n",
    "\n",
    "# Créer le répertoire de destination s'il n'existe pas déjà\n",
    "os.makedirs(extracted_path, exist_ok=True)\n",
    "\n",
    "# Extraire les fichiers de l'archive zip\n",
    "with zipfile.ZipFile(archive_path, 'r') as zip_ref:\n",
    "    zip_ref.extractall(extracted_path)\n",
    "\n",
    "print(\"Extraction terminée.\")"
   ]
  }
 ],
 "metadata": {
  "language_info": {
   "name": "python"
  }
 },
 "nbformat": 4,
 "nbformat_minor": 2
}
