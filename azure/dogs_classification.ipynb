{
 "cells": [
  {
   "cell_type": "code",
   "execution_count": 1,
   "metadata": {},
   "outputs": [
    {
     "name": "stdout",
     "output_type": "stream",
     "text": [
      "Ready to predict using model dogs-classification in project eb3c0e14-6751-4329-b59f-364511a6184e\n"
     ]
    }
   ],
   "source": [
    "project_id = 'eb3c0e14-6751-4329-b59f-364511a6184e'\n",
    "\n",
    "cv_key = '99f12a82663e4e4388be35bfd8a0d373' # à réccuperer à partir de Azure RG Prediction Ressource (et non à partir de customVision.ai)\n",
    "\n",
    "cv_endpoint = 'https://customvisiontpazure.cognitiveservices.azure.com/' # à réccuperer à partir de Azure RG Prediction Ressource (et non à partir de customVision.ai)\n",
    "\n",
    "model_name = 'dogs-classification' # this must match the model name you set when publishing your model iteration (it's case-sensitive)!\n",
    "print(f'Ready to predict using model {model_name} in project {project_id}')"
   ]
  },
  {
   "cell_type": "code",
   "execution_count": 2,
   "metadata": {},
   "outputs": [
    {
     "name": "stdout",
     "output_type": "stream",
     "text": [
      "Requirement already satisfied: azure-cognitiveservices-vision-customvision in c:\\users\\nbarb\\appdata\\local\\programs\\python\\python310\\lib\\site-packages (3.1.0)\n",
      "Requirement already satisfied: msrest>=0.5.0 in c:\\users\\nbarb\\appdata\\local\\programs\\python\\python310\\lib\\site-packages (from azure-cognitiveservices-vision-customvision) (0.7.1)\n",
      "Requirement already satisfied: azure-common~=1.1 in c:\\users\\nbarb\\appdata\\local\\programs\\python\\python310\\lib\\site-packages (from azure-cognitiveservices-vision-customvision) (1.1.28)\n",
      "Requirement already satisfied: azure-core>=1.24.0 in c:\\users\\nbarb\\appdata\\local\\programs\\python\\python310\\lib\\site-packages (from msrest>=0.5.0->azure-cognitiveservices-vision-customvision) (1.30.0)\n",
      "Requirement already satisfied: certifi>=2017.4.17 in c:\\users\\nbarb\\appdata\\local\\programs\\python\\python310\\lib\\site-packages (from msrest>=0.5.0->azure-cognitiveservices-vision-customvision) (2023.7.22)\n",
      "Requirement already satisfied: isodate>=0.6.0 in c:\\users\\nbarb\\appdata\\local\\programs\\python\\python310\\lib\\site-packages (from msrest>=0.5.0->azure-cognitiveservices-vision-customvision) (0.6.1)\n",
      "Requirement already satisfied: requests-oauthlib>=0.5.0 in c:\\users\\nbarb\\appdata\\local\\programs\\python\\python310\\lib\\site-packages (from msrest>=0.5.0->azure-cognitiveservices-vision-customvision) (1.3.1)\n",
      "Requirement already satisfied: requests~=2.16 in c:\\users\\nbarb\\appdata\\local\\programs\\python\\python310\\lib\\site-packages (from msrest>=0.5.0->azure-cognitiveservices-vision-customvision) (2.31.0)\n",
      "Requirement already satisfied: six>=1.11.0 in c:\\users\\nbarb\\appdata\\local\\programs\\python\\python310\\lib\\site-packages (from azure-core>=1.24.0->msrest>=0.5.0->azure-cognitiveservices-vision-customvision) (1.16.0)\n",
      "Requirement already satisfied: typing-extensions>=4.6.0 in c:\\users\\nbarb\\appdata\\local\\programs\\python\\python310\\lib\\site-packages (from azure-core>=1.24.0->msrest>=0.5.0->azure-cognitiveservices-vision-customvision) (4.9.0)\n",
      "Requirement already satisfied: charset-normalizer<4,>=2 in c:\\users\\nbarb\\appdata\\local\\programs\\python\\python310\\lib\\site-packages (from requests~=2.16->msrest>=0.5.0->azure-cognitiveservices-vision-customvision) (3.3.2)\n",
      "Requirement already satisfied: idna<4,>=2.5 in c:\\users\\nbarb\\appdata\\local\\programs\\python\\python310\\lib\\site-packages (from requests~=2.16->msrest>=0.5.0->azure-cognitiveservices-vision-customvision) (2.10)\n",
      "Requirement already satisfied: urllib3<3,>=1.21.1 in c:\\users\\nbarb\\appdata\\local\\programs\\python\\python310\\lib\\site-packages (from requests~=2.16->msrest>=0.5.0->azure-cognitiveservices-vision-customvision) (2.0.7)\n",
      "Requirement already satisfied: oauthlib>=3.0.0 in c:\\users\\nbarb\\appdata\\local\\programs\\python\\python310\\lib\\site-packages (from requests-oauthlib>=0.5.0->msrest>=0.5.0->azure-cognitiveservices-vision-customvision) (3.2.2)\n"
     ]
    }
   ],
   "source": [
    "!pip install azure-cognitiveservices-vision-customvision"
   ]
  },
  {
   "cell_type": "code",
   "execution_count": 3,
   "metadata": {},
   "outputs": [
    {
     "name": "stdout",
     "output_type": "stream",
     "text": [
      "Requirement already satisfied: tensorflow in c:\\users\\nbarb\\appdata\\local\\programs\\python\\python310\\lib\\site-packages (2.12.1)\n",
      "Requirement already satisfied: tensorflow-intel==2.12.1 in c:\\users\\nbarb\\appdata\\local\\programs\\python\\python310\\lib\\site-packages (from tensorflow) (2.12.1)\n",
      "Requirement already satisfied: absl-py>=1.0.0 in c:\\users\\nbarb\\appdata\\local\\programs\\python\\python310\\lib\\site-packages (from tensorflow-intel==2.12.1->tensorflow) (2.1.0)\n",
      "Requirement already satisfied: astunparse>=1.6.0 in c:\\users\\nbarb\\appdata\\local\\programs\\python\\python310\\lib\\site-packages (from tensorflow-intel==2.12.1->tensorflow) (1.6.3)\n",
      "Requirement already satisfied: flatbuffers>=2.0 in c:\\users\\nbarb\\appdata\\local\\programs\\python\\python310\\lib\\site-packages (from tensorflow-intel==2.12.1->tensorflow) (23.5.26)\n",
      "Requirement already satisfied: gast<=0.4.0,>=0.2.1 in c:\\users\\nbarb\\appdata\\local\\programs\\python\\python310\\lib\\site-packages (from tensorflow-intel==2.12.1->tensorflow) (0.4.0)\n",
      "Requirement already satisfied: google-pasta>=0.1.1 in c:\\users\\nbarb\\appdata\\local\\programs\\python\\python310\\lib\\site-packages (from tensorflow-intel==2.12.1->tensorflow) (0.2.0)\n",
      "Requirement already satisfied: h5py>=2.9.0 in c:\\users\\nbarb\\appdata\\local\\programs\\python\\python310\\lib\\site-packages (from tensorflow-intel==2.12.1->tensorflow) (3.10.0)\n",
      "Requirement already satisfied: jax>=0.3.15 in c:\\users\\nbarb\\appdata\\local\\programs\\python\\python310\\lib\\site-packages (from tensorflow-intel==2.12.1->tensorflow) (0.4.24)\n",
      "Requirement already satisfied: libclang>=13.0.0 in c:\\users\\nbarb\\appdata\\local\\programs\\python\\python310\\lib\\site-packages (from tensorflow-intel==2.12.1->tensorflow) (16.0.6)\n",
      "Requirement already satisfied: numpy<=1.24.3,>=1.22 in c:\\users\\nbarb\\appdata\\local\\programs\\python\\python310\\lib\\site-packages (from tensorflow-intel==2.12.1->tensorflow) (1.24.3)\n",
      "Requirement already satisfied: opt-einsum>=2.3.2 in c:\\users\\nbarb\\appdata\\local\\programs\\python\\python310\\lib\\site-packages (from tensorflow-intel==2.12.1->tensorflow) (3.3.0)\n",
      "Requirement already satisfied: packaging in c:\\users\\nbarb\\appdata\\local\\programs\\python\\python310\\lib\\site-packages (from tensorflow-intel==2.12.1->tensorflow) (23.2)\n",
      "Requirement already satisfied: protobuf!=4.21.0,!=4.21.1,!=4.21.2,!=4.21.3,!=4.21.4,!=4.21.5,<5.0.0dev,>=3.20.3 in c:\\users\\nbarb\\appdata\\local\\programs\\python\\python310\\lib\\site-packages (from tensorflow-intel==2.12.1->tensorflow) (4.25.2)\n",
      "Requirement already satisfied: setuptools in c:\\users\\nbarb\\appdata\\local\\programs\\python\\python310\\lib\\site-packages (from tensorflow-intel==2.12.1->tensorflow) (65.5.0)\n",
      "Requirement already satisfied: six>=1.12.0 in c:\\users\\nbarb\\appdata\\local\\programs\\python\\python310\\lib\\site-packages (from tensorflow-intel==2.12.1->tensorflow) (1.16.0)\n",
      "Requirement already satisfied: termcolor>=1.1.0 in c:\\users\\nbarb\\appdata\\local\\programs\\python\\python310\\lib\\site-packages (from tensorflow-intel==2.12.1->tensorflow) (2.4.0)\n",
      "Collecting typing-extensions<4.6.0,>=3.6.6 (from tensorflow-intel==2.12.1->tensorflow)\n",
      "  Using cached typing_extensions-4.5.0-py3-none-any.whl.metadata (8.5 kB)\n",
      "Requirement already satisfied: wrapt<1.15,>=1.11.0 in c:\\users\\nbarb\\appdata\\local\\programs\\python\\python310\\lib\\site-packages (from tensorflow-intel==2.12.1->tensorflow) (1.14.1)\n",
      "Requirement already satisfied: grpcio<2.0,>=1.24.3 in c:\\users\\nbarb\\appdata\\local\\programs\\python\\python310\\lib\\site-packages (from tensorflow-intel==2.12.1->tensorflow) (1.60.1)\n",
      "Requirement already satisfied: tensorboard<2.13,>=2.12 in c:\\users\\nbarb\\appdata\\local\\programs\\python\\python310\\lib\\site-packages (from tensorflow-intel==2.12.1->tensorflow) (2.12.3)\n",
      "Requirement already satisfied: tensorflow-estimator<2.13,>=2.12.0 in c:\\users\\nbarb\\appdata\\local\\programs\\python\\python310\\lib\\site-packages (from tensorflow-intel==2.12.1->tensorflow) (2.12.0)\n",
      "Requirement already satisfied: keras<2.13,>=2.12.0 in c:\\users\\nbarb\\appdata\\local\\programs\\python\\python310\\lib\\site-packages (from tensorflow-intel==2.12.1->tensorflow) (2.12.0)\n",
      "Requirement already satisfied: tensorflow-io-gcs-filesystem>=0.23.1 in c:\\users\\nbarb\\appdata\\local\\programs\\python\\python310\\lib\\site-packages (from tensorflow-intel==2.12.1->tensorflow) (0.31.0)\n",
      "Requirement already satisfied: wheel<1.0,>=0.23.0 in c:\\users\\nbarb\\appdata\\local\\programs\\python\\python310\\lib\\site-packages (from astunparse>=1.6.0->tensorflow-intel==2.12.1->tensorflow) (0.42.0)\n",
      "Requirement already satisfied: ml-dtypes>=0.2.0 in c:\\users\\nbarb\\appdata\\local\\programs\\python\\python310\\lib\\site-packages (from jax>=0.3.15->tensorflow-intel==2.12.1->tensorflow) (0.2.0)\n",
      "Requirement already satisfied: scipy>=1.9 in c:\\users\\nbarb\\appdata\\local\\programs\\python\\python310\\lib\\site-packages (from jax>=0.3.15->tensorflow-intel==2.12.1->tensorflow) (1.11.3)\n",
      "Requirement already satisfied: google-auth<3,>=1.6.3 in c:\\users\\nbarb\\appdata\\local\\programs\\python\\python310\\lib\\site-packages (from tensorboard<2.13,>=2.12->tensorflow-intel==2.12.1->tensorflow) (2.28.0)\n",
      "Requirement already satisfied: google-auth-oauthlib<1.1,>=0.5 in c:\\users\\nbarb\\appdata\\local\\programs\\python\\python310\\lib\\site-packages (from tensorboard<2.13,>=2.12->tensorflow-intel==2.12.1->tensorflow) (1.0.0)\n",
      "Requirement already satisfied: markdown>=2.6.8 in c:\\users\\nbarb\\appdata\\local\\programs\\python\\python310\\lib\\site-packages (from tensorboard<2.13,>=2.12->tensorflow-intel==2.12.1->tensorflow) (3.5.2)\n",
      "Requirement already satisfied: requests<3,>=2.21.0 in c:\\users\\nbarb\\appdata\\local\\programs\\python\\python310\\lib\\site-packages (from tensorboard<2.13,>=2.12->tensorflow-intel==2.12.1->tensorflow) (2.31.0)\n",
      "Requirement already satisfied: tensorboard-data-server<0.8.0,>=0.7.0 in c:\\users\\nbarb\\appdata\\local\\programs\\python\\python310\\lib\\site-packages (from tensorboard<2.13,>=2.12->tensorflow-intel==2.12.1->tensorflow) (0.7.2)\n",
      "Requirement already satisfied: werkzeug>=1.0.1 in c:\\users\\nbarb\\appdata\\local\\programs\\python\\python310\\lib\\site-packages (from tensorboard<2.13,>=2.12->tensorflow-intel==2.12.1->tensorflow) (3.0.1)\n",
      "Requirement already satisfied: cachetools<6.0,>=2.0.0 in c:\\users\\nbarb\\appdata\\local\\programs\\python\\python310\\lib\\site-packages (from google-auth<3,>=1.6.3->tensorboard<2.13,>=2.12->tensorflow-intel==2.12.1->tensorflow) (5.3.2)\n",
      "Requirement already satisfied: pyasn1-modules>=0.2.1 in c:\\users\\nbarb\\appdata\\local\\programs\\python\\python310\\lib\\site-packages (from google-auth<3,>=1.6.3->tensorboard<2.13,>=2.12->tensorflow-intel==2.12.1->tensorflow) (0.3.0)\n",
      "Requirement already satisfied: rsa<5,>=3.1.4 in c:\\users\\nbarb\\appdata\\local\\programs\\python\\python310\\lib\\site-packages (from google-auth<3,>=1.6.3->tensorboard<2.13,>=2.12->tensorflow-intel==2.12.1->tensorflow) (4.9)\n",
      "Requirement already satisfied: requests-oauthlib>=0.7.0 in c:\\users\\nbarb\\appdata\\local\\programs\\python\\python310\\lib\\site-packages (from google-auth-oauthlib<1.1,>=0.5->tensorboard<2.13,>=2.12->tensorflow-intel==2.12.1->tensorflow) (1.3.1)\n",
      "Requirement already satisfied: charset-normalizer<4,>=2 in c:\\users\\nbarb\\appdata\\local\\programs\\python\\python310\\lib\\site-packages (from requests<3,>=2.21.0->tensorboard<2.13,>=2.12->tensorflow-intel==2.12.1->tensorflow) (3.3.2)\n",
      "Requirement already satisfied: idna<4,>=2.5 in c:\\users\\nbarb\\appdata\\local\\programs\\python\\python310\\lib\\site-packages (from requests<3,>=2.21.0->tensorboard<2.13,>=2.12->tensorflow-intel==2.12.1->tensorflow) (2.10)\n",
      "Requirement already satisfied: urllib3<3,>=1.21.1 in c:\\users\\nbarb\\appdata\\local\\programs\\python\\python310\\lib\\site-packages (from requests<3,>=2.21.0->tensorboard<2.13,>=2.12->tensorflow-intel==2.12.1->tensorflow) (2.0.7)\n",
      "Requirement already satisfied: certifi>=2017.4.17 in c:\\users\\nbarb\\appdata\\local\\programs\\python\\python310\\lib\\site-packages (from requests<3,>=2.21.0->tensorboard<2.13,>=2.12->tensorflow-intel==2.12.1->tensorflow) (2023.7.22)\n",
      "Requirement already satisfied: MarkupSafe>=2.1.1 in c:\\users\\nbarb\\appdata\\local\\programs\\python\\python310\\lib\\site-packages (from werkzeug>=1.0.1->tensorboard<2.13,>=2.12->tensorflow-intel==2.12.1->tensorflow) (2.1.3)\n",
      "Requirement already satisfied: pyasn1<0.6.0,>=0.4.6 in c:\\users\\nbarb\\appdata\\local\\programs\\python\\python310\\lib\\site-packages (from pyasn1-modules>=0.2.1->google-auth<3,>=1.6.3->tensorboard<2.13,>=2.12->tensorflow-intel==2.12.1->tensorflow) (0.5.1)\n",
      "Requirement already satisfied: oauthlib>=3.0.0 in c:\\users\\nbarb\\appdata\\local\\programs\\python\\python310\\lib\\site-packages (from requests-oauthlib>=0.7.0->google-auth-oauthlib<1.1,>=0.5->tensorboard<2.13,>=2.12->tensorflow-intel==2.12.1->tensorflow) (3.2.2)\n",
      "Using cached typing_extensions-4.5.0-py3-none-any.whl (27 kB)\n",
      "Installing collected packages: typing-extensions\n",
      "  Attempting uninstall: typing-extensions\n",
      "    Found existing installation: typing_extensions 4.9.0\n",
      "    Uninstalling typing_extensions-4.9.0:\n",
      "      Successfully uninstalled typing_extensions-4.9.0\n",
      "Successfully installed typing-extensions-4.5.0\n"
     ]
    },
    {
     "name": "stderr",
     "output_type": "stream",
     "text": [
      "ERROR: pip's dependency resolver does not currently take into account all the packages that are installed. This behaviour is the source of the following dependency conflicts.\n",
      "azure-core 1.30.0 requires typing-extensions>=4.6.0, but you have typing-extensions 4.5.0 which is incompatible.\n",
      "pydantic 2.4.2 requires typing-extensions>=4.6.1, but you have typing-extensions 4.5.0 which is incompatible.\n",
      "pydantic-core 2.10.1 requires typing-extensions!=4.7.0,>=4.6.0, but you have typing-extensions 4.5.0 which is incompatible.\n"
     ]
    }
   ],
   "source": [
    "!pip install tensorflow"
   ]
  },
  {
   "cell_type": "code",
   "execution_count": 4,
   "metadata": {},
   "outputs": [],
   "source": [
    "from azure.cognitiveservices.vision.customvision.prediction import CustomVisionPredictionClient\n",
    "from msrest.authentication import ApiKeyCredentials\n",
    "import matplotlib.pyplot as plt\n",
    "from PIL import Image"
   ]
  },
  {
   "cell_type": "code",
   "execution_count": 5,
   "metadata": {},
   "outputs": [],
   "source": [
    "# Create an instance of the prediction service\n",
    "credentials = ApiKeyCredentials(in_headers={\"Prediction-key\": cv_key})\n",
    "custom_vision_client = CustomVisionPredictionClient(endpoint=cv_endpoint, credentials=credentials)"
   ]
  },
  {
   "cell_type": "code",
   "execution_count": 6,
   "metadata": {},
   "outputs": [
    {
     "name": "stdout",
     "output_type": "stream",
     "text": [
      "Found 17760 images belonging to 120 classes.\n"
     ]
    }
   ],
   "source": [
    "from tensorflow.keras.preprocessing.image import ImageDataGenerator\n",
    " \n",
    "datagen = ImageDataGenerator(rescale=1./255)\n",
    "train_generator = datagen.flow_from_directory(\n",
    "        '../images',\n",
    "        target_size=(150, 150),\n",
    "        batch_size=32,\n",
    "        class_mode='categorical')"
   ]
  },
  {
   "cell_type": "code",
   "execution_count": 7,
   "metadata": {},
   "outputs": [
    {
     "name": "stdout",
     "output_type": "stream",
     "text": [
      "Found 17760 images belonging to 120 classes.\n"
     ]
    }
   ],
   "source": [
    "from tensorflow.keras.preprocessing.image import ImageDataGenerator\n",
    " \n",
    "datagen = ImageDataGenerator(rescale=1./255)\n",
    "test_generator = datagen.flow_from_directory(\n",
    "        '../images',\n",
    "        target_size=(150, 150),\n",
    "        batch_size=32,\n",
    "        class_mode='categorical')"
   ]
  },
  {
   "cell_type": "code",
   "execution_count": 8,
   "metadata": {},
   "outputs": [],
   "source": [
    "from azure.cognitiveservices.vision.customvision.training import CustomVisionTrainingClient\n",
    "from azure.cognitiveservices.vision.customvision.prediction import CustomVisionPredictionClient\n",
    "from azure.cognitiveservices.vision.computervision import ComputerVisionClient\n",
    "from azure.cognitiveservices.vision.computervision.models import VisualFeatureTypes\n",
    "from azure.cognitiveservices.vision.customvision.training.models import ImageFileCreateBatch, ImageFileCreateEntry, Region\n",
    "from msrest.authentication import CognitiveServicesCredentials\n",
    "import os\n",
    "from msrest.authentication import ApiKeyCredentials\n",
    "from time import sleep\n",
    " \n",
    "# Authentifier le client\n",
    "# computervision_client = ComputerVisionClient(cv_endpoint, CognitiveServicesCredentials(cv_key))\n",
    "\n",
    "credentials = ApiKeyCredentials(in_headers={\"Training-key\": cv_key})\n",
    "trainer = CustomVisionTrainingClient(cv_endpoint, credentials)\n",
    "# prediction_credentials = ApiKeyCredentials(in_headers={\"Prediction-key\": prediction_key})\n",
    "# predictor = CustomVisionPredictionClient(cv_endpoint, prediction_credentials)\n",
    "\n",
    " "
   ]
  },
  {
   "cell_type": "markdown",
   "metadata": {},
   "source": [
    "## Création du projet\n"
   ]
  },
  {
   "cell_type": "code",
   "execution_count": 9,
   "metadata": {},
   "outputs": [
    {
     "data": {
      "text/plain": [
       "<azure.cognitiveservices.vision.customvision.training.models._models_py3.Project at 0x178c99038e0>"
      ]
     },
     "execution_count": 9,
     "metadata": {},
     "output_type": "execute_result"
    }
   ],
   "source": [
    "project_name = 'dogs_classification'\n",
    "project = trainer.create_project(project_name)\n",
    "project"
   ]
  },
  {
   "cell_type": "code",
   "execution_count": 10,
   "metadata": {},
   "outputs": [
    {
     "data": {
      "text/plain": [
       "'8c465afe-dbdf-4c7c-9250-ba76412b2baa'"
      ]
     },
     "execution_count": 10,
     "metadata": {},
     "output_type": "execute_result"
    }
   ],
   "source": [
    "project.id"
   ]
  },
  {
   "cell_type": "code",
   "execution_count": 11,
   "metadata": {},
   "outputs": [],
   "source": [
    "image_path = '../images'\n",
    "\n",
    "folders = os.listdir(image_path)\n",
    "label = []\n",
    "\n",
    "for folder in folders:\n",
    "    # sleep(1)\n",
    "    trainer.create_tag(project.id, folder) \n",
    "    label.append(folder)\n",
    "    # commenté pour pas recréer les tags\n"
   ]
  },
  {
   "cell_type": "code",
   "execution_count": 12,
   "metadata": {},
   "outputs": [],
   "source": [
    "# image_list = []\n",
    "\n",
    "# for tag in label:\n",
    "#     categoryName = tag.split('-')\n",
    "#     categoryName = '_'.join(categoryName).capitalize()\n",
    "\n",
    "#     for file_name in os.listdir(\"../images/\" + categoryName):\n",
    "#         file_path = \"../images/\" + categoryName + \"/\" + file_name\n",
    "        \n",
    "#         with open((file_path), \"rb\") as image_contents:\n",
    "#             image_list = []\n",
    "#             image_list.append(ImageFileCreateEntry(name=file_name, contents=image_contents.read(), tag_ids=[tag]))\n",
    "#             print(image_list)\n",
    "#             upload_result = trainer.create_images_from_files(project.id, ImageFileCreateBatch(images=image_list))\n",
    "#             if not upload_result.is_batch_successful:\n",
    "#                 print(\"Image batch upload failed.\")\n",
    "#                 for image in upload_result.images:\n",
    "#                     print(\"Image status: \", image.status)\n",
    "#                 exit(-1)\n",
    "\n",
    "\n"
   ]
  },
  {
   "cell_type": "code",
   "execution_count": 13,
   "metadata": {},
   "outputs": [],
   "source": [
    "project_id = \"75b7b86a-4f70-4c9b-b3bc-7bfc40419b29\""
   ]
  },
  {
   "cell_type": "markdown",
   "metadata": {},
   "source": [
    "## Entrainer l'ia"
   ]
  },
  {
   "cell_type": "code",
   "execution_count": 14,
   "metadata": {},
   "outputs": [
    {
     "name": "stdout",
     "output_type": "stream",
     "text": [
      "Training...\n"
     ]
    },
    {
     "ename": "CustomVisionErrorException",
     "evalue": "Nothing changed since last training",
     "output_type": "error",
     "traceback": [
      "\u001b[1;31m---------------------------------------------------------------------------\u001b[0m",
      "\u001b[1;31mCustomVisionErrorException\u001b[0m                Traceback (most recent call last)",
      "Cell \u001b[1;32mIn[14], line 2\u001b[0m\n\u001b[0;32m      1\u001b[0m \u001b[38;5;28mprint\u001b[39m (\u001b[38;5;124m\"\u001b[39m\u001b[38;5;124mTraining...\u001b[39m\u001b[38;5;124m\"\u001b[39m)\n\u001b[1;32m----> 2\u001b[0m iteration \u001b[38;5;241m=\u001b[39m \u001b[43mtrainer\u001b[49m\u001b[38;5;241;43m.\u001b[39;49m\u001b[43mtrain_project\u001b[49m\u001b[43m(\u001b[49m\u001b[43mproject_id\u001b[49m\u001b[43m)\u001b[49m\n\u001b[0;32m      3\u001b[0m \u001b[38;5;28;01mwhile\u001b[39;00m (iteration\u001b[38;5;241m.\u001b[39mstatus \u001b[38;5;241m!=\u001b[39m \u001b[38;5;124m\"\u001b[39m\u001b[38;5;124mCompleted\u001b[39m\u001b[38;5;124m\"\u001b[39m):\n\u001b[0;32m      4\u001b[0m     iteration \u001b[38;5;241m=\u001b[39m trainer\u001b[38;5;241m.\u001b[39mget_iteration(project_id, iteration\u001b[38;5;241m.\u001b[39mid)\n",
      "File \u001b[1;32mc:\\Users\\nbarb\\AppData\\Local\\Programs\\Python\\Python310\\lib\\site-packages\\azure\\cognitiveservices\\vision\\customvision\\training\\operations\\_custom_vision_training_client_operations.py:3274\u001b[0m, in \u001b[0;36mCustomVisionTrainingClientOperationsMixin.train_project\u001b[1;34m(self, project_id, training_type, reserved_budget_in_hours, force_train, notification_email_address, selected_tags, custom_base_model_info, custom_headers, raw, **operation_config)\u001b[0m\n\u001b[0;32m   3271\u001b[0m response \u001b[38;5;241m=\u001b[39m \u001b[38;5;28mself\u001b[39m\u001b[38;5;241m.\u001b[39m_client\u001b[38;5;241m.\u001b[39msend(request, stream\u001b[38;5;241m=\u001b[39m\u001b[38;5;28;01mFalse\u001b[39;00m, \u001b[38;5;241m*\u001b[39m\u001b[38;5;241m*\u001b[39moperation_config)\n\u001b[0;32m   3273\u001b[0m \u001b[38;5;28;01mif\u001b[39;00m response\u001b[38;5;241m.\u001b[39mstatus_code \u001b[38;5;129;01mnot\u001b[39;00m \u001b[38;5;129;01min\u001b[39;00m [\u001b[38;5;241m200\u001b[39m]:\n\u001b[1;32m-> 3274\u001b[0m     \u001b[38;5;28;01mraise\u001b[39;00m models\u001b[38;5;241m.\u001b[39mCustomVisionErrorException(\u001b[38;5;28mself\u001b[39m\u001b[38;5;241m.\u001b[39m_deserialize, response)\n\u001b[0;32m   3276\u001b[0m deserialized \u001b[38;5;241m=\u001b[39m \u001b[38;5;28;01mNone\u001b[39;00m\n\u001b[0;32m   3277\u001b[0m \u001b[38;5;28;01mif\u001b[39;00m response\u001b[38;5;241m.\u001b[39mstatus_code \u001b[38;5;241m==\u001b[39m \u001b[38;5;241m200\u001b[39m:\n",
      "\u001b[1;31mCustomVisionErrorException\u001b[0m: Nothing changed since last training"
     ]
    }
   ],
   "source": [
    "print (\"Training...\")\n",
    "iteration = trainer.train_project(project_id)\n",
    "while (iteration.status != \"Completed\"):\n",
    "    iteration = trainer.get_iteration(project_id, iteration.id)\n",
    "    print (\"Training status: \" + iteration.status)\n",
    "    print (\"Waiting 10 seconds...\")\n",
    "    sleep(10)"
   ]
  },
  {
   "cell_type": "code",
   "execution_count": 15,
   "metadata": {},
   "outputs": [
    {
     "name": "stdout",
     "output_type": "stream",
     "text": [
      "Requirement already satisfied: azure-cognitiveservices-vision-computervision in c:\\users\\nbarb\\appdata\\local\\programs\\python\\python310\\lib\\site-packages (0.9.0)\n",
      "Requirement already satisfied: msrest>=0.5.0 in c:\\users\\nbarb\\appdata\\local\\programs\\python\\python310\\lib\\site-packages (from azure-cognitiveservices-vision-computervision) (0.7.1)\n",
      "Requirement already satisfied: azure-common~=1.1 in c:\\users\\nbarb\\appdata\\local\\programs\\python\\python310\\lib\\site-packages (from azure-cognitiveservices-vision-computervision) (1.1.28)\n",
      "Requirement already satisfied: azure-core>=1.24.0 in c:\\users\\nbarb\\appdata\\local\\programs\\python\\python310\\lib\\site-packages (from msrest>=0.5.0->azure-cognitiveservices-vision-computervision) (1.30.0)\n",
      "Requirement already satisfied: certifi>=2017.4.17 in c:\\users\\nbarb\\appdata\\local\\programs\\python\\python310\\lib\\site-packages (from msrest>=0.5.0->azure-cognitiveservices-vision-computervision) (2023.7.22)\n",
      "Requirement already satisfied: isodate>=0.6.0 in c:\\users\\nbarb\\appdata\\local\\programs\\python\\python310\\lib\\site-packages (from msrest>=0.5.0->azure-cognitiveservices-vision-computervision) (0.6.1)\n",
      "Requirement already satisfied: requests-oauthlib>=0.5.0 in c:\\users\\nbarb\\appdata\\local\\programs\\python\\python310\\lib\\site-packages (from msrest>=0.5.0->azure-cognitiveservices-vision-computervision) (1.3.1)\n",
      "Requirement already satisfied: requests~=2.16 in c:\\users\\nbarb\\appdata\\local\\programs\\python\\python310\\lib\\site-packages (from msrest>=0.5.0->azure-cognitiveservices-vision-computervision) (2.31.0)\n",
      "Requirement already satisfied: six>=1.11.0 in c:\\users\\nbarb\\appdata\\local\\programs\\python\\python310\\lib\\site-packages (from azure-core>=1.24.0->msrest>=0.5.0->azure-cognitiveservices-vision-computervision) (1.16.0)\n",
      "Collecting typing-extensions>=4.6.0 (from azure-core>=1.24.0->msrest>=0.5.0->azure-cognitiveservices-vision-computervision)\n",
      "  Using cached typing_extensions-4.9.0-py3-none-any.whl.metadata (3.0 kB)\n",
      "Requirement already satisfied: charset-normalizer<4,>=2 in c:\\users\\nbarb\\appdata\\local\\programs\\python\\python310\\lib\\site-packages (from requests~=2.16->msrest>=0.5.0->azure-cognitiveservices-vision-computervision) (3.3.2)\n",
      "Requirement already satisfied: idna<4,>=2.5 in c:\\users\\nbarb\\appdata\\local\\programs\\python\\python310\\lib\\site-packages (from requests~=2.16->msrest>=0.5.0->azure-cognitiveservices-vision-computervision) (2.10)\n",
      "Requirement already satisfied: urllib3<3,>=1.21.1 in c:\\users\\nbarb\\appdata\\local\\programs\\python\\python310\\lib\\site-packages (from requests~=2.16->msrest>=0.5.0->azure-cognitiveservices-vision-computervision) (2.0.7)\n",
      "Requirement already satisfied: oauthlib>=3.0.0 in c:\\users\\nbarb\\appdata\\local\\programs\\python\\python310\\lib\\site-packages (from requests-oauthlib>=0.5.0->msrest>=0.5.0->azure-cognitiveservices-vision-computervision) (3.2.2)\n",
      "Using cached typing_extensions-4.9.0-py3-none-any.whl (32 kB)\n",
      "Installing collected packages: typing-extensions\n",
      "  Attempting uninstall: typing-extensions\n",
      "    Found existing installation: typing_extensions 4.5.0\n",
      "    Uninstalling typing_extensions-4.5.0:\n",
      "      Successfully uninstalled typing_extensions-4.5.0\n",
      "Successfully installed typing-extensions-4.9.0\n"
     ]
    },
    {
     "name": "stderr",
     "output_type": "stream",
     "text": [
      "ERROR: pip's dependency resolver does not currently take into account all the packages that are installed. This behaviour is the source of the following dependency conflicts.\n",
      "tensorflow-intel 2.12.1 requires typing-extensions<4.6.0,>=3.6.6, but you have typing-extensions 4.9.0 which is incompatible.\n"
     ]
    }
   ],
   "source": [
    "!pip install azure-cognitiveservices-vision-computervision"
   ]
  },
  {
   "cell_type": "code",
   "execution_count": 16,
   "metadata": {},
   "outputs": [],
   "source": [
    "from azure.cognitiveservices.vision.computervision import ComputerVisionClient\n",
    "from azure.cognitiveservices.vision.computervision.models import VisualFeatureTypes\n",
    "from msrest.authentication import CognitiveServicesCredentials\n",
    "\n",
    "# Get endpoint and key from environment variables\n",
    "import os, requests\n",
    "endpoint = cv_endpoint\n",
    "key = cv_key\n",
    "\n",
    "# Set credentials\n",
    "credentials = CognitiveServicesCredentials(key)\n",
    "\n",
    "# Create client\n",
    "client = ComputerVisionClient(endpoint, credentials)\n",
    "\n",
    "prediction_credentials = ApiKeyCredentials(in_headers={\"Prediction-key\": cv_key})\n",
    "predictor = CustomVisionPredictionClient(cv_endpoint, prediction_credentials)"
   ]
  },
  {
   "cell_type": "code",
   "execution_count": 17,
   "metadata": {},
   "outputs": [
    {
     "ename": "ComputerVisionErrorResponseException",
     "evalue": "(401) The Analyze Image Operation under Computer Vision API (v3.2) is not supported with the current subscription key and pricing tier Custom_Vision.Training.S0.",
     "output_type": "error",
     "traceback": [
      "\u001b[1;31m---------------------------------------------------------------------------\u001b[0m",
      "\u001b[1;31mComputerVisionErrorResponseException\u001b[0m      Traceback (most recent call last)",
      "Cell \u001b[1;32mIn[17], line 10\u001b[0m\n\u001b[0;32m      7\u001b[0m \u001b[38;5;28;01mfor\u001b[39;00m file_name \u001b[38;5;129;01min\u001b[39;00m os\u001b[38;5;241m.\u001b[39mlistdir(\u001b[38;5;124m\"\u001b[39m\u001b[38;5;124m../images/\u001b[39m\u001b[38;5;124m\"\u001b[39m \u001b[38;5;241m+\u001b[39m categoryName):\n\u001b[0;32m      8\u001b[0m     file_path \u001b[38;5;241m=\u001b[39m \u001b[38;5;124m\"\u001b[39m\u001b[38;5;124m../images/\u001b[39m\u001b[38;5;124m\"\u001b[39m \u001b[38;5;241m+\u001b[39m categoryName \u001b[38;5;241m+\u001b[39m \u001b[38;5;124m\"\u001b[39m\u001b[38;5;124m/\u001b[39m\u001b[38;5;124m\"\u001b[39m \u001b[38;5;241m+\u001b[39m file_name\n\u001b[1;32m---> 10\u001b[0m     image_analysis \u001b[38;5;241m=\u001b[39m \u001b[43mclient\u001b[49m\u001b[38;5;241;43m.\u001b[39;49m\u001b[43manalyze_image\u001b[49m\u001b[43m(\u001b[49m\u001b[43mfile_path\u001b[49m\u001b[43m,\u001b[49m\u001b[43mvisual_features\u001b[49m\u001b[38;5;241;43m=\u001b[39;49m\u001b[43m[\u001b[49m\u001b[43mVisualFeatureTypes\u001b[49m\u001b[38;5;241;43m.\u001b[39;49m\u001b[43mtags\u001b[49m\u001b[43m]\u001b[49m\u001b[43m)\u001b[49m\n\u001b[0;32m     11\u001b[0m     \u001b[38;5;28;01mfor\u001b[39;00m tag \u001b[38;5;129;01min\u001b[39;00m image_analysis\u001b[38;5;241m.\u001b[39mtags:\n\u001b[0;32m     12\u001b[0m         \u001b[38;5;28mprint\u001b[39m(tag)\n",
      "File \u001b[1;32mc:\\Users\\nbarb\\AppData\\Local\\Programs\\Python\\Python310\\lib\\site-packages\\azure\\cognitiveservices\\vision\\computervision\\operations\\_computer_vision_client_operations.py:122\u001b[0m, in \u001b[0;36mComputerVisionClientOperationsMixin.analyze_image\u001b[1;34m(self, url, visual_features, details, language, description_exclude, model_version, custom_headers, raw, **operation_config)\u001b[0m\n\u001b[0;32m    119\u001b[0m response \u001b[38;5;241m=\u001b[39m \u001b[38;5;28mself\u001b[39m\u001b[38;5;241m.\u001b[39m_client\u001b[38;5;241m.\u001b[39msend(request, stream\u001b[38;5;241m=\u001b[39m\u001b[38;5;28;01mFalse\u001b[39;00m, \u001b[38;5;241m*\u001b[39m\u001b[38;5;241m*\u001b[39moperation_config)\n\u001b[0;32m    121\u001b[0m \u001b[38;5;28;01mif\u001b[39;00m response\u001b[38;5;241m.\u001b[39mstatus_code \u001b[38;5;129;01mnot\u001b[39;00m \u001b[38;5;129;01min\u001b[39;00m [\u001b[38;5;241m200\u001b[39m]:\n\u001b[1;32m--> 122\u001b[0m     \u001b[38;5;28;01mraise\u001b[39;00m models\u001b[38;5;241m.\u001b[39mComputerVisionErrorResponseException(\u001b[38;5;28mself\u001b[39m\u001b[38;5;241m.\u001b[39m_deserialize, response)\n\u001b[0;32m    124\u001b[0m deserialized \u001b[38;5;241m=\u001b[39m \u001b[38;5;28;01mNone\u001b[39;00m\n\u001b[0;32m    125\u001b[0m \u001b[38;5;28;01mif\u001b[39;00m response\u001b[38;5;241m.\u001b[39mstatus_code \u001b[38;5;241m==\u001b[39m \u001b[38;5;241m200\u001b[39m:\n",
      "\u001b[1;31mComputerVisionErrorResponseException\u001b[0m: (401) The Analyze Image Operation under Computer Vision API (v3.2) is not supported with the current subscription key and pricing tier Custom_Vision.Training.S0."
     ]
    }
   ],
   "source": [
    "publish_iteration_name = \"classifyModel\"\n",
    "\n",
    "for tag in label:\n",
    "    categoryName = tag.split('-')\n",
    "    categoryName = '_'.join(categoryName).capitalize()\n",
    "\n",
    "    for file_name in os.listdir(\"../images/\" + categoryName):\n",
    "        file_path = \"../images/\" + categoryName + \"/\" + file_name\n",
    "        \n",
    "        image_analysis = client.analyze_image(file_path,visual_features=[VisualFeatureTypes.tags])\n",
    "        for tag in image_analysis.tags:\n",
    "            print(tag)\n"
   ]
  },
  {
   "cell_type": "markdown",
   "metadata": {},
   "source": [
    "## Export du model depuis azure puis importation du model sur le projet python"
   ]
  },
  {
   "cell_type": "code",
   "execution_count": 23,
   "metadata": {},
   "outputs": [],
   "source": [
    "import tensorflow as tf\n",
    "\n",
    "# Obtenir le chemin absolu du répertoire actuel\n",
    "current_directory = os.getcwd()\n",
    "\n",
    "# Construire le chemin absolu vers le modèle\n",
    "model_path = os.path.join(current_directory, '../model/model.pb')\n",
    "\n",
    "# Charger le modèle TensorFlow\n",
    "with tf.io.gfile.GFile(model_path, 'rb') as f:\n",
    "    graph_def = tf.compat.v1.GraphDef()\n",
    "    graph_def.ParseFromString(f.read())\n",
    "    with tf.compat.v1.Graph().as_default() as graph:\n",
    "        tf.import_graph_def(graph_def, name='')\n",
    "\n",
    "images_folder = '../images/Affenpinscher/'\n",
    "image_files = [os.path.join(images_folder, f) for f in os.listdir(images_folder) if os.path.isfile(os.path.join(images_folder, f))]\n",
    "\n",
    "# Faire des prédictions sur chaque image\n",
    "predictions = []\n",
    "with tf.compat.v1.Session(graph=graph) as sess:\n",
    "    input_op = graph.get_tensor_by_name('input_tensor_name:0')  # Assurez-vous de remplacer 'input_tensor_name' par le nom de votre opération d'entrée\n",
    "    output_op = graph.get_tensor_by_name('output_tensor_name:0')  # Assurez-vous de remplacer 'output_tensor_name' par le nom de votre opération de sortie\n",
    "\n",
    "    for image_file in image_files:\n",
    "        # Charger l'image\n",
    "        image = cv2.imread(image_file)\n",
    "        processed_image = preprocess_image(image)\n",
    "\n",
    "        # Faire une prédiction\n",
    "        prediction = sess.run(output_op, feed_dict={input_op: processed_image})\n",
    "        predictions.append(prediction)"
   ]
  }
 ],
 "metadata": {
  "kernelspec": {
   "display_name": "Python 3",
   "language": "python",
   "name": "python3"
  },
  "language_info": {
   "codemirror_mode": {
    "name": "ipython",
    "version": 3
   },
   "file_extension": ".py",
   "mimetype": "text/x-python",
   "name": "python",
   "nbconvert_exporter": "python",
   "pygments_lexer": "ipython3",
   "version": "3.10.11"
  }
 },
 "nbformat": 4,
 "nbformat_minor": 2
}
